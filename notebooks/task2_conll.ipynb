{
 "cells": [
  {
   "cell_type": "code",
   "execution_count": 4,
   "metadata": {},
   "outputs": [
    {
     "data": {
      "text/html": [
       "<div>\n",
       "<style scoped>\n",
       "    .dataframe tbody tr th:only-of-type {\n",
       "        vertical-align: middle;\n",
       "    }\n",
       "\n",
       "    .dataframe tbody tr th {\n",
       "        vertical-align: top;\n",
       "    }\n",
       "\n",
       "    .dataframe thead th {\n",
       "        text-align: right;\n",
       "    }\n",
       "</style>\n",
       "<table border=\"1\" class=\"dataframe\">\n",
       "  <thead>\n",
       "    <tr style=\"text-align: right;\">\n",
       "      <th></th>\n",
       "      <th>Message</th>\n",
       "    </tr>\n",
       "  </thead>\n",
       "  <tbody>\n",
       "    <tr>\n",
       "      <th>0</th>\n",
       "      <td>NaN</td>\n",
       "    </tr>\n",
       "    <tr>\n",
       "      <th>1</th>\n",
       "      <td>⬇️⬇️⬇️9pcs Kitchen knife Set\\n\\n✔️1 ሞረድ\\n\\n✔️4...</td>\n",
       "    </tr>\n",
       "    <tr>\n",
       "      <th>2</th>\n",
       "      <td>NaN</td>\n",
       "    </tr>\n",
       "    <tr>\n",
       "      <th>3</th>\n",
       "      <td>🔥💥Spark electronic gas lighter\\n\\nPrice⚡️ 750\\...</td>\n",
       "    </tr>\n",
       "    <tr>\n",
       "      <th>4</th>\n",
       "      <td>NaN</td>\n",
       "    </tr>\n",
       "  </tbody>\n",
       "</table>\n",
       "</div>"
      ],
      "text/plain": [
       "                                             Message\n",
       "0                                                NaN\n",
       "1  ⬇️⬇️⬇️9pcs Kitchen knife Set\\n\\n✔️1 ሞረድ\\n\\n✔️4...\n",
       "2                                                NaN\n",
       "3  🔥💥Spark electronic gas lighter\\n\\nPrice⚡️ 750\\...\n",
       "4                                                NaN"
      ]
     },
     "execution_count": 4,
     "metadata": {},
     "output_type": "execute_result"
    }
   ],
   "source": [
    "import pandas as pd\n",
    "\n",
    "# Load the preprocessed data\n",
    "df = pd.read_csv('D:/KAIM/Week 5/KAIM WEEK5/notebooks/telegram_channels_data.csv')\n",
    "df.head()\n",
    "\n",
    "# Select a subset of the data \n",
    "subset_df = df.head(30)\n",
    "subset_df = subset_df[['Message']] \n",
    "subset_df.head()"
   ]
  },
  {
   "cell_type": "code",
   "execution_count": 3,
   "metadata": {},
   "outputs": [],
   "source": [
    "import spacy\n",
    "\n",
    "# Load the spaCy model\n",
    "nlp = spacy.load('en_core_web_sm')\n",
    "\n",
    "# Define the labeling function with more variations and synonyms\n",
    "def label_entities_custom(message):\n",
    "    doc = nlp(message)\n",
    "    labels = []\n",
    "    \n",
    "    # Keywords for each entity category\n",
    "    location_keywords = [\"location\", \"place\", \"address\", \"👉\", \"አድራሻ\"\"ስሪ\", \"ኤም\", \"ሲቲ\", \"ሞል\", \"ሁለተኛ\", \"ፎቅ\", \"ቢሮ\", \"ቁ\", \"ከ\", \"ሊፍቱ\", \"ኛ\", \"ለ\", \"ፊት\"]\n",
    "    product_keywords = [\"quality\", \"Product\", \"product\", \"item\", \"goods\", \"Silicon\", \"ሞረድ\", \"ልዩ\", \"እቃ\"]\n",
    "    price_keywords = [\"ዋጋ\", \"ብር\", \"Money\", \"money\", \"Price\", \"price\", \"cost\", \"expense\", \"charge\"]\n",
    "    \n",
    "    for token in doc:\n",
    "        if token.text in product_keywords:\n",
    "            label = \"B-Product\" if token.ent_iob_ == \"B\" else \"I-Product\"\n",
    "        elif token.text in price_keywords:\n",
    "            label = \"B-PRICE\" if token.ent_iob_ == \"B\" else \"I-PRICE\"\n",
    "        elif token.text in location_keywords:\n",
    "            label = \"B-LOC\" if token.ent_iob_ == \"B\" else \"I-LOC\"\n",
    "        else:\n",
    "            label = \"O\"\n",
    "        labels.append(f\"{token.text} {label}\")\n",
    "    \n",
    "    return labels"
   ]
  },
  {
   "cell_type": "code",
   "execution_count": 6,
   "metadata": {},
   "outputs": [
    {
     "name": "stdout",
     "output_type": "stream",
     "text": [
      "\n"
     ]
    }
   ],
   "source": [
    "import pandas as pd\n",
    "\n",
    "# Define a placeholder for the custom labeling function\n",
    "def label_entities_custom(message):\n",
    "    # This is a simplified example. Replace with your actual entity labeling logic.\n",
    "    tokens = message.split()\n",
    "    labeled_message = []\n",
    "    for token in tokens:\n",
    "        # Example labeling: every token is labeled as \"O\" (outside any named entity)\n",
    "        labeled_message.append(f\"{token} O\")\n",
    "    return labeled_message\n",
    "\n",
    "# Load the preprocessed data\n",
    "df = pd.read_csv('telegram_channels_data.csv')\n",
    "subset_df = df.head(30)\n",
    "subset_df = subset_df[['Message']]\n",
    "\n",
    "# Fill NaN values with an empty string\n",
    "subset_df['Message'] = subset_df['Message'].fillna('')\n",
    "\n",
    "# Ensure all entries in the 'Message' column are strings\n",
    "subset_df['Message'] = subset_df['Message'].astype(str)\n",
    "\n",
    "# Create a new list to store labeled messages\n",
    "labeled_data_custom = []\n",
    "\n",
    "for message in subset_df['Message']:\n",
    "    labeled_message = label_entities_custom(message)\n",
    "    labeled_data_custom.append(\"\\n\".join(labeled_message))\n",
    "    labeled_data_custom.append(\"\")\n",
    "\n",
    "# Example of how to label a subset message\n",
    "message_example = subset_df['Message'].iloc[0]\n",
    "labeled_example = label_entities_custom(message_example)\n",
    "print(\"\\n\".join(labeled_example))\n",
    "\n",
    "# Save labeled data to a text file in CoNLL format\n",
    "with open('dataset.conll', 'w', encoding='utf-8') as file:\n",
    "    for line in labeled_data_custom:\n",
    "        file.write(line + '\\n')\n"
   ]
  }
 ],
 "metadata": {
  "kernelspec": {
   "display_name": ".ebcli-virtual-env",
   "language": "python",
   "name": "python3"
  },
  "language_info": {
   "codemirror_mode": {
    "name": "ipython",
    "version": 3
   },
   "file_extension": ".py",
   "mimetype": "text/x-python",
   "name": "python",
   "nbconvert_exporter": "python",
   "pygments_lexer": "ipython3",
   "version": "3.11.9"
  }
 },
 "nbformat": 4,
 "nbformat_minor": 2
}
