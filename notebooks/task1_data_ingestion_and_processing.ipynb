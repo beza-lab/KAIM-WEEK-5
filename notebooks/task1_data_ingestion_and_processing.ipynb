{
 "cells": [
  {
   "cell_type": "code",
   "execution_count": 7,
   "metadata": {},
   "outputs": [
    {
     "name": "stdout",
     "output_type": "stream",
     "text": [
      "API ID: 27613793\n",
      "API Hash: 58f73f500af1aa0f525caff262964fa4\n",
      "Phone: +251911756372\n"
     ]
    },
    {
     "name": "stderr",
     "output_type": "stream",
     "text": [
      "Invalid code. Please try again.\n"
     ]
    },
    {
     "name": "stdout",
     "output_type": "stream",
     "text": [
      "Signed in successfully as Bezawit G; remember to not break the ToS or you will risk an account ban!\n",
      "Client Created\n"
     ]
    }
   ],
   "source": [
    "import os\n",
    "from dotenv import load_dotenv\n",
    "from telethon import TelegramClient\n",
    "import nest_asyncio\n",
    "import asyncio\n",
    "\n",
    "# Apply nest_asyncio to allow nested event loops\n",
    "nest_asyncio.apply()\n",
    "\n",
    "# Load environment variables\n",
    "load_dotenv('/.env')\n",
    "\n",
    "api_id = os.getenv('api_id')\n",
    "api_hash = os.getenv('api_hash')\n",
    "phone = os.getenv('phone')\n",
    "\n",
    "print(f\"API ID: {api_id}\")\n",
    "print(f\"API Hash: {api_hash}\")\n",
    "print(f\"Phone: {phone}\")\n",
    "\n",
    "# Initialize the client with an in-memory session\n",
    "client = TelegramClient(None, api_id, api_hash)\n",
    "\n",
    "async def main():\n",
    "    async with client:\n",
    "        try:\n",
    "            await client.start(phone)\n",
    "            print(\"Client Created\")\n",
    "        except Exception as e:\n",
    "            print(f\"Error: {e}\")\n",
    "            print(\"Please check your network connection, session ID, and ensure the verification code is correct.\")\n",
    "\n",
    "# Run the main function\n",
    "if __name__ == \"__main__\":\n",
    "    asyncio.run(main())\n"
   ]
  },
  {
   "cell_type": "code",
   "execution_count": null,
   "metadata": {},
   "outputs": [],
   "source": [
    "import os\n",
    "import csv\n",
    "from dotenv import load_dotenv\n",
    "from telethon import TelegramClient\n",
    "import nest_asyncio\n",
    "import asyncio\n",
    "\n",
    "# Apply nest_asyncio to allow nested event loops\n",
    "nest_asyncio.apply()\n",
    "\n",
    "# Load environment variables\n",
    "load_dotenv('/.env')\n",
    "\n",
    "api_id = os.getenv('api_id')\n",
    "api_hash = os.getenv('api_hash')\n",
    "phone = os.getenv('phone')\n",
    "\n",
    "print(f\"API ID: {api_id}\")\n",
    "print(f\"API Hash: {api_hash}\")\n",
    "print(f\"Phone: {phone}\")\n",
    "\n",
    "# Initialize the client with an in-memory session\n",
    "client = TelegramClient(None, api_id, api_hash)\n",
    "\n",
    "async def scrape_channel(client, channel_username, writer, media_dir):\n",
    "    entity = await client.get_entity(channel_username)\n",
    "    channel_title = entity.title \n",
    "    async for message in client.iter_messages(entity, limit=1000):\n",
    "        media_path = None\n",
    "        if message.media and hasattr(message.media, 'photo'):\n",
    "            filename = f\"{channel_username}_{message.id}.jpg\"\n",
    "            media_path = os.path.join(media_dir, filename)\n",
    "            await client.download_media(message.media, media_path)\n",
    "        \n",
    "        writer.writerow([channel_title, channel_username, message.id, message.message, message.date, media_path])\n",
    "\n",
    "async def scrape_channels(client, channels, media_dir, csv_file):\n",
    "    os.makedirs(media_dir, exist_ok=True)\n",
    "    \n",
    "    with open(csv_file, 'w', newline='', encoding='utf-8') as file:\n",
    "        writer = csv.writer(file)\n",
    "        writer.writerow(['Channel Title', 'Channel Username', 'ID', 'Message', 'Date', 'Media Path'])\n",
    "        \n",
    "        for channel in channels:\n",
    "            await scrape_channel(client, channel, writer, media_dir)\n",
    "            print(f\"Scraped data from {channel}\")\n",
    "\n",
    "async def main():\n",
    "    async with client:\n",
    "        await client.start(phone)\n",
    "        print(\"Client Created\")\n",
    "        channels = [\n",
    "            '@Leyueqa',\n",
    "            '@ethio_brand_collection'\n",
    "        ]\n",
    "        await scrape_channels(client, channels, 'photos', 'telegram_channels_data.csv')\n",
    "\n",
    "# Run the main function\n",
    "asyncio.run(main())"
   ]
  },
  {
   "cell_type": "code",
   "execution_count": null,
   "metadata": {},
   "outputs": [],
   "source": []
  }
 ],
 "metadata": {
  "kernelspec": {
   "display_name": ".ebcli-virtual-env",
   "language": "python",
   "name": "python3"
  },
  "language_info": {
   "codemirror_mode": {
    "name": "ipython",
    "version": 3
   },
   "file_extension": ".py",
   "mimetype": "text/x-python",
   "name": "python",
   "nbconvert_exporter": "python",
   "pygments_lexer": "ipython3",
   "version": "3.11.9"
  }
 },
 "nbformat": 4,
 "nbformat_minor": 2
}
